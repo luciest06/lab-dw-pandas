{
 "cells": [
  {
   "cell_type": "markdown",
   "id": "25d7736c-ba17-4aff-b6bb-66eba20fbf4e",
   "metadata": {},
   "source": [
    "# Lab | Pandas"
   ]
  },
  {
   "cell_type": "markdown",
   "id": "d1973e9e-8be6-4039-b70e-d73ee0d94c99",
   "metadata": {},
   "source": [
    "In this lab, we will be working with the customer data from an insurance company, which can be found in the CSV file located at the following link: https://raw.githubusercontent.com/data-bootcamp-v4/data/main/file1.csv\n",
    "\n",
    "The data includes information such as customer ID, state, gender, education, income, and other variables that can be used to perform various analyses.\n",
    "\n",
    "Throughout the lab, we will be using the pandas library in Python to manipulate and analyze the data. Pandas is a powerful library that provides various data manipulation and analysis tools, including the ability to load and manipulate data from a variety of sources, including CSV files."
   ]
  },
  {
   "cell_type": "markdown",
   "id": "8045146f-f4f7-44d9-8cd9-130d6400c73a",
   "metadata": {},
   "source": [
    "### Data Description\n",
    "\n",
    "- Customer - Customer ID\n",
    "\n",
    "- ST - State where customers live\n",
    "\n",
    "- Gender - Gender of the customer\n",
    "\n",
    "- Education - Background education of customers \n",
    "\n",
    "- Customer Lifetime Value - Customer lifetime value(CLV) is the total revenue the client will derive from their entire relationship with a customer. In other words, is the predicted or calculated value of a customer over their entire duration as a policyholder with the insurance company. It is an estimation of the net profit that the insurance company expects to generate from a customer throughout their relationship with the company. Customer Lifetime Value takes into account factors such as the duration of the customer's policy, premium payments, claim history, renewal likelihood, and potential additional services or products the customer may purchase. It helps insurers assess the long-term profitability and value associated with retaining a particular customer.\n",
    "\n",
    "- Income - Customers income\n",
    "\n",
    "- Monthly Premium Auto - Amount of money the customer pays on a monthly basis as a premium for their auto insurance coverage. It represents the recurring cost that the insured person must pay to maintain their insurance policy and receive coverage for potential damages, accidents, or other covered events related to their vehicle.\n",
    "\n",
    "- Number of Open Complaints - Number of complaints the customer opened\n",
    "\n",
    "- Policy Type - There are three type of policies in car insurance (Corporate Auto, Personal Auto, and Special Auto)\n",
    "\n",
    "- Vehicle Class - Type of vehicle classes that customers have Two-Door Car, Four-Door Car SUV, Luxury SUV, Sports Car, and Luxury Car\n",
    "\n",
    "- Total Claim Amount - the sum of all claims made by the customer. It represents the total monetary value of all approved claims for incidents such as accidents, theft, vandalism, or other covered events.\n"
   ]
  },
  {
   "cell_type": "markdown",
   "id": "3a72419b-20fc-4905-817a-8c83abc59de6",
   "metadata": {},
   "source": [
    "External Resources: https://towardsdatascience.com/filtering-data-frames-in-pandas-b570b1f834b9"
   ]
  },
  {
   "cell_type": "markdown",
   "id": "8f8ece17-e919-4e23-96c0-c7c59778436a",
   "metadata": {},
   "source": [
    "## Challenge 1: Understanding the data\n",
    "\n",
    "In this challenge, you will use pandas to explore a given dataset. Your task is to gain a deep understanding of the data by analyzing its characteristics, dimensions, and statistical properties."
   ]
  },
  {
   "cell_type": "markdown",
   "id": "91437bd5-59a6-49c0-8150-ef0e6e6eb253",
   "metadata": {},
   "source": [
    "- Identify the dimensions of the dataset by determining the number of rows and columns it contains.\n",
    "- Determine the data types of each column and evaluate whether they are appropriate for the nature of the variable. You should also provide suggestions for fixing any incorrect data types.\n",
    "- Identify the number of unique values for each column and determine which columns appear to be categorical. You should also describe the unique values of each categorical column and the range of values for numerical columns, and give your insights.\n",
    "- Compute summary statistics such as mean, median, mode, standard deviation, and quartiles to understand the central tendency and distribution of the data for numerical columns. You should also provide your conclusions based on these summary statistics.\n",
    "- Compute summary statistics for categorical columns and providing your conclusions based on these statistics."
   ]
  },
  {
   "cell_type": "code",
   "execution_count": 143,
   "id": "dd4e8cd8-a6f6-486c-a5c4-1745b0c035f4",
   "metadata": {},
   "outputs": [
    {
     "name": "stdout",
     "output_type": "stream",
     "text": [
      "  Customer          ST GENDER             Education Customer Lifetime Value  \\\n",
      "0  RB50392  Washington    NaN                Master                     NaN   \n",
      "1  QZ44356     Arizona      F              Bachelor              697953.59%   \n",
      "2  AI49188      Nevada      F              Bachelor             1288743.17%   \n",
      "3  WW63253  California      M              Bachelor              764586.18%   \n",
      "4  GA49547  Washington      M  High School or Below              536307.65%   \n",
      "\n",
      "    Income  Monthly Premium Auto Number of Open Complaints     Policy Type  \\\n",
      "0      0.0                1000.0                    1/0/00   Personal Auto   \n",
      "1      0.0                  94.0                    1/0/00   Personal Auto   \n",
      "2  48767.0                 108.0                    1/0/00   Personal Auto   \n",
      "3      0.0                 106.0                    1/0/00  Corporate Auto   \n",
      "4  36357.0                  68.0                    1/0/00   Personal Auto   \n",
      "\n",
      "   Vehicle Class  Total Claim Amount  \n",
      "0  Four-Door Car            2.704934  \n",
      "1  Four-Door Car         1131.464935  \n",
      "2   Two-Door Car          566.472247  \n",
      "3            SUV          529.881344  \n",
      "4  Four-Door Car           17.269323  \n",
      "(4008, 11)\n",
      "  Customer          ST GENDER             Education  Customer Lifetime Value  \\\n",
      "0  RB50392  Washington    NaN                Master                      NaN   \n",
      "1  QZ44356     Arizona      F              Bachelor                697953.59   \n",
      "2  AI49188      Nevada      F              Bachelor               1288743.17   \n",
      "3  WW63253  California      M              Bachelor                764586.18   \n",
      "4  GA49547  Washington      M  High School or Below                536307.65   \n",
      "\n",
      "    Income  Monthly Premium Auto Number of Open Complaints     Policy Type  \\\n",
      "0      0.0                1000.0                         0   Personal Auto   \n",
      "1      0.0                  94.0                         0   Personal Auto   \n",
      "2  48767.0                 108.0                         0   Personal Auto   \n",
      "3      0.0                 106.0                         0  Corporate Auto   \n",
      "4  36357.0                  68.0                         0   Personal Auto   \n",
      "\n",
      "   Vehicle Class  Total Claim Amount  \n",
      "0  Four-Door Car            2.704934  \n",
      "1  Four-Door Car         1131.464935  \n",
      "2   Two-Door Car          566.472247  \n",
      "3            SUV          529.881344  \n",
      "4  Four-Door Car           17.269323  \n",
      " \n",
      "It seems ST, GENDER, Education, Policy Type, and Vehicle Class should be categorical values, where Education, should be an ordinal variable and the rest nominal variables.\n",
      " \n",
      "For the numerical variables, customer lifetime value range is 5616220.279999999, income range is 99960.0, claim amount range is 2892.857571, and premium auto range is 35293.0\n",
      "       Customer Lifetime Value        Income  Monthly Premium Auto  \\\n",
      "count             1.068000e+03   1071.000000           1071.000000   \n",
      "mean              7.936903e+05  39295.701214            193.234360   \n",
      "std               6.434784e+05  30469.427060           1601.190369   \n",
      "min               2.004351e+05      0.000000             61.000000   \n",
      "25%               4.034080e+05  14072.000000             68.000000   \n",
      "50%               5.881742e+05  36234.000000             83.000000   \n",
      "75%               8.962872e+05  64631.000000            109.500000   \n",
      "max               5.816655e+06  99960.000000          35354.000000   \n",
      "\n",
      "       Total Claim Amount  \n",
      "count         1071.000000  \n",
      "mean           404.986909  \n",
      "std            293.027260  \n",
      "min              0.382107  \n",
      "25%            202.157702  \n",
      "50%            354.729129  \n",
      "75%            532.800000  \n",
      "max           2893.239678  \n",
      "ST\n",
      "Oregon        320\n",
      "California    211\n",
      "Arizona       186\n",
      "Cali          120\n",
      "Nevada         98\n",
      "Washington     81\n",
      "WA             30\n",
      "AZ             25\n",
      "Name: count, dtype: int64\n",
      "Vehicle Class\n",
      "Four-Door Car    576\n",
      "Two-Door Car     205\n",
      "SUV              199\n",
      "Sports Car        57\n",
      "Luxury SUV        20\n",
      "Luxury Car        14\n",
      "Name: count, dtype: int64\n",
      "GENDER\n",
      "F         457\n",
      "M         413\n",
      "Male       39\n",
      "female     28\n",
      "Femal      17\n",
      "Name: count, dtype: int64\n"
     ]
    }
   ],
   "source": [
    "# Your code here\n",
    "import pandas as pd\n",
    "ins_df=pd.read_csv('https://raw.githubusercontent.com/data-bootcamp-v4/data/main/file1.csv')\n",
    "\n",
    "print(ins_df.head())\n",
    "print(ins_df.shape)\n",
    "ins_df.dtypes\n",
    "\n",
    "ins_df[\"Customer Lifetime Value\"]=ins_df[\"Customer Lifetime Value\"].str.replace('%', '').astype(float)\n",
    "ins_df[\"Number of Open Complaints\"]=ins_df[\"Number of Open Complaints\"].str.replace('1/', '')\n",
    "ins_df[\"Number of Open Complaints\"]=ins_df[\"Number of Open Complaints\"].str.replace('/00', '')\n",
    "print(ins_df.head())\n",
    "\n",
    "#Customer Lifetime Value should be a float, Number of Open Complaints should be an integer.\n",
    "\n",
    "ins_df.nunique()\n",
    "\n",
    "print(\" \")\n",
    "print(\"It seems ST, GENDER, Education, Policy Type, and Vehicle Class should be categorical values, where Education, should be an ordinal variable and the rest nominal variables.\")\n",
    "\n",
    "income_range=ins_df[\"Income\"].max()-ins_df[\"Income\"].min()\n",
    "income_range\n",
    "claim_amount_range=ins_df[\"Total Claim Amount\"].max()-ins_df[\"Total Claim Amount\"].min()\n",
    "claim_amount_range\n",
    "premium_auto_range=ins_df[\"Monthly Premium Auto\"].max()-ins_df[\"Monthly Premium Auto\"].min()\n",
    "premium_auto_range\n",
    "lifetime_value_range=ins_df[\"Customer Lifetime Value\"].max()-ins_df[\"Customer Lifetime Value\"].min()\n",
    "lifetime_value_range\n",
    "\n",
    "print(\" \")\n",
    "print(f\"For the numerical variables, customer lifetime value range is {lifetime_value_range}, income range is {income_range}, claim amount range is {claim_amount_range}, and premium auto range is {premium_auto_range}\")\n",
    "\n",
    "print(ins_df.describe())\n",
    "\n",
    "ins_df[\"Number of Open Complaints\"].value_counts()\n",
    "#ins_df['Number of Open Complaints'].astype(int)\n",
    "\n",
    "print(ins_df['ST'].value_counts())\n",
    "#Most customers live in California and Oregon.\n",
    "\n",
    "print(ins_df['Vehicle Class'].value_counts())\n",
    "#Most customers own a Four-Door Car.\n",
    "\n",
    "print(ins_df['GENDER'].value_counts())\n",
    "#Most customers are female.\n",
    "\n"
   ]
  },
  {
   "cell_type": "markdown",
   "id": "4a703890-63db-4944-b7ab-95a4f8185120",
   "metadata": {},
   "source": [
    "## Challenge 2: analyzing the data"
   ]
  },
  {
   "cell_type": "markdown",
   "id": "0776a403-c56a-452f-ac33-5fd4fdb06fc7",
   "metadata": {},
   "source": [
    "### Exercise 1"
   ]
  },
  {
   "cell_type": "markdown",
   "id": "eedbc484-da4d-4f9c-9343-e1d44311a87e",
   "metadata": {},
   "source": [
    "The marketing team wants to know the top 5 less common customer locations. Create a pandas Series object that contains the customer locations and their frequencies, and then retrieve the top 5 less common locations in ascending order."
   ]
  },
  {
   "cell_type": "code",
   "execution_count": 39,
   "id": "2dca5073-4520-4f42-9390-4b92733284ed",
   "metadata": {},
   "outputs": [
    {
     "data": {
      "text/plain": [
       "ST\n",
       "California    331\n",
       "Oregon        320\n",
       "Arizona       211\n",
       "Washington    111\n",
       "Nevada         98\n",
       "Name: count, dtype: int64"
      ]
     },
     "execution_count": 39,
     "metadata": {},
     "output_type": "execute_result"
    }
   ],
   "source": [
    "import numpy as np\n",
    "\n",
    "ins_df[\"ST\"] = np.where(ins_df[\"ST\"] == 'WA', 'Washington', ins_df[\"ST\"])\n",
    "ins_df[\"ST\"] = np.where(ins_df[\"ST\"] == 'AZ', 'Arizona', ins_df[\"ST\"])\n",
    "ins_df[\"ST\"] = np.where(ins_df[\"ST\"] == 'Cali', 'California', ins_df[\"ST\"])\n",
    "\n",
    "ins_df[\"ST\"].unique()\n",
    "\n",
    "state_count_df=ins_df[\"ST\"].value_counts()\n",
    "state_count_df.sort_values(ascending=True)\n",
    "\n",
    "state_count_df"
   ]
  },
  {
   "cell_type": "markdown",
   "id": "0ce80f43-4afa-43c7-a78a-c917444da4e0",
   "metadata": {},
   "source": [
    "### Exercise 2\n",
    "\n",
    "The sales team wants to know the total number of policies sold for each type of policy. Create a pandas Series object that contains the policy types and their total number of policies sold, and then retrieve the policy type with the highest number of policies sold."
   ]
  },
  {
   "cell_type": "markdown",
   "id": "a9f13997-1555-4f98-aca6-970fda1d2c3f",
   "metadata": {},
   "source": [
    "*Hint:*\n",
    "- *Using value_counts() method simplifies this analysis.*\n",
    "- *Futhermore, there is a method that returns the index of the maximum value in a column or row.*\n"
   ]
  },
  {
   "cell_type": "code",
   "execution_count": 17,
   "id": "bcfad6c1-9af2-4b0b-9aa9-0dc5c17473c0",
   "metadata": {},
   "outputs": [
    {
     "name": "stdout",
     "output_type": "stream",
     "text": [
      "The total number of policies sold is: 1071\n",
      " \n",
      "Total number of policies sold per type of policies:  Policy Type\n",
      "Personal Auto     780\n",
      "Corporate Auto    234\n",
      "Special Auto       57\n",
      "Name: count, dtype: int64\n",
      " \n",
      "The policy type with the highest number of policies sold is: Personal Auto\n"
     ]
    }
   ],
   "source": [
    "ins_df[\"Policy Type\"].unique()\n",
    "total_policies_sold=sum(ins_df[\"Policy Type\"].value_counts())\n",
    "\n",
    "print(\"The total number of policies sold is:\",total_policies_sold)\n",
    "print(\" \")\n",
    "print(\"Total number of policies sold per type of policies: \",ins_df[\"Policy Type\"].value_counts())\n",
    "print(\" \")\n",
    "print(\"The policy type with the highest number of policies sold is:\",ins_df[\"Policy Type\"].value_counts().idxmax()) \n",
    "\n"
   ]
  },
  {
   "cell_type": "markdown",
   "id": "0b863fd3-bf91-4d5d-86eb-be29ed9f5b70",
   "metadata": {},
   "source": [
    "### Exercise 3\n",
    "\n",
    "The sales team wants to know if customers with Personal Auto have a lower income than those with Corporate Auto. How does the average income compare between the two policy types?"
   ]
  },
  {
   "cell_type": "markdown",
   "id": "b1386d75-2810-4aa1-93e0-9485aa12d552",
   "metadata": {},
   "source": [
    "- Use *loc* to create two dataframes: one containing only Personal Auto policies and one containing only Corporate Auto policies.\n",
    "- Calculate the average income for each policy.\n",
    "- Print the results."
   ]
  },
  {
   "cell_type": "code",
   "execution_count": 154,
   "id": "0c0563cf-6f8b-463d-a321-651a972f82e5",
   "metadata": {},
   "outputs": [
    {
     "name": "stdout",
     "output_type": "stream",
     "text": [
      "Customers with Personal Auto average income:  38180.7\n",
      "Customers with Corporate Auto average income:  41390.31\n"
     ]
    }
   ],
   "source": [
    "\n",
    "policytype_income_df=ins_df.loc[:,[\"Policy Type\",\"Income\"]]\n",
    "\n",
    "personal_auto_income_df=policytype_income_df[policytype_income_df['Policy Type']=='Personal Auto']\n",
    "personal_auto_income_df\n",
    "\n",
    "corporate_auto_income_df=policytype_income_df[policytype_income_df['Policy Type']=='Corporate Auto']\n",
    "corporate_auto_income_df\n",
    "\n",
    "print(\"Customers with Personal Auto average income: \",personal_auto_income_df['Income'].mean().round(2))\n",
    "print(\"Customers with Corporate Auto average income: \",corporate_auto_income_df['Income'].mean().round(2))\n",
    "\n",
    "#Customers with a Corporate Auto policy have indeed, on average, a higher income than customers with Personal Auto policy."
   ]
  },
  {
   "cell_type": "markdown",
   "id": "80b16c27-f4a5-4727-a229-1f88671cf4e2",
   "metadata": {},
   "source": [
    "### Bonus: Exercise 4\n"
   ]
  },
  {
   "cell_type": "markdown",
   "id": "ac584986-299b-475f-ac2e-928c16c3f512",
   "metadata": {},
   "source": [
    "Your goal is to identify customers with a high policy claim amount.\n",
    "\n",
    "Instructions:\n",
    "\n",
    "- Review again the statistics for total claim amount to gain an understanding of the data.\n",
    "- To identify potential areas for improving customer retention and profitability, we want to focus on customers with a high policy claim amount. Consider customers with a high policy claim amount to be those in the top 25% of the total claim amount. Create a pandas DataFrame object that contains information about customers with a policy claim amount greater than the 75th percentile.\n",
    "- Use DataFrame methods to calculate summary statistics about the high policy claim amount data. "
   ]
  },
  {
   "cell_type": "markdown",
   "id": "4e3af5f1-6023-4b05-9c01-d05392daa650",
   "metadata": {},
   "source": [
    "*Note: When analyzing data, we often want to focus on certain groups of values to gain insights. Percentiles are a useful tool to help us define these groups. A percentile is a measure that tells us what percentage of values in a dataset are below a certain value. For example, the 75th percentile represents the value below which 75% of the data falls. Similarly, the 25th percentile represents the value below which 25% of the data falls. When we talk about the top 25%, we are referring to the values that fall above the 75th percentile, which represent the top quarter of the data. On the other hand, when we talk about the bottom 25%, we are referring to the values that fall below the 25th percentile, which represent the bottom quarter of the data. By focusing on these groups, we can identify patterns and trends that may be useful for making decisions and taking action.*\n",
    "\n",
    "*Hint: look for a method that gives you the percentile or quantile 0.75 and 0.25 for a Pandas Series.*"
   ]
  },
  {
   "cell_type": "markdown",
   "id": "2d234634-50bd-41e0-88f7-d5ba684455d1",
   "metadata": {},
   "source": [
    "*Hint 2: check `Boolean selection according to the values of a single column` in https://towardsdatascience.com/filtering-data-frames-in-pandas-b570b1f834b9*"
   ]
  },
  {
   "cell_type": "code",
   "execution_count": 73,
   "id": "b731bca6-a760-4860-a27b-a33efa712ce0",
   "metadata": {},
   "outputs": [
    {
     "name": "stdout",
     "output_type": "stream",
     "text": [
      "75th percentile (quantile 0.75): 532.8\n"
     ]
    }
   ],
   "source": [
    "\n",
    "claim_amount_75percentile=ins_df['Total Claim Amount'].quantile(0.75)\n",
    "\n",
    "print(f\"75th percentile (quantile 0.75): {claim_amount_75percentile}\")\n"
   ]
  },
  {
   "cell_type": "code",
   "execution_count": 95,
   "id": "d359564d-75f6-4a20-a643-4d739249fd6d",
   "metadata": {},
   "outputs": [
    {
     "name": "stdout",
     "output_type": "stream",
     "text": [
      "             Income  Monthly Premium Auto  Total Claim Amount\n",
      "count    264.000000            264.000000          264.000000\n",
      "mean   23677.344697            165.193182          782.228263\n",
      "std    27013.483721            623.930992          292.751640\n",
      "min        0.000000             63.000000          537.600000\n",
      "25%        0.000000             99.000000          606.521741\n",
      "50%    18807.000000            114.000000          679.597985\n",
      "75%    42423.750000            133.250000          851.400000\n",
      "max    99316.000000          10202.000000         2893.239678\n",
      "Vehicle Class\n",
      "SUV              101\n",
      "Four-Door Car     69\n",
      "Two-Door Car      33\n",
      "Sports Car        31\n",
      "Luxury SUV        19\n",
      "Luxury Car        11\n",
      "Name: count, dtype: int64\n",
      "ST\n",
      "Oregon        90\n",
      "California    86\n",
      "Arizona       49\n",
      "Nevada        29\n",
      "Washington    10\n",
      "Name: count, dtype: int64\n"
     ]
    }
   ],
   "source": [
    "claim_amount_top25_df=ins_df[ins_df['Total Claim Amount']>532.8]\n",
    "claim_amount_top25_df\n",
    "\n",
    "print(claim_amount_top25_df.describe())\n",
    "print(claim_amount_top25_df['Vehicle Class'].value_counts())\n",
    "print(claim_amount_top25_df['ST'].value_counts())\n",
    "\n",
    "#Most customers with a high policy claim amount drive an SUV and live on the West coast in Oregon and California."
   ]
  },
  {
   "cell_type": "code",
   "execution_count": null,
   "id": "dfede35f-563b-4312-976b-6e164fa2964c",
   "metadata": {},
   "outputs": [],
   "source": []
  }
 ],
 "metadata": {
  "kernelspec": {
   "display_name": "Python 3 (ipykernel)",
   "language": "python",
   "name": "python3"
  },
  "language_info": {
   "codemirror_mode": {
    "name": "ipython",
    "version": 3
   },
   "file_extension": ".py",
   "mimetype": "text/x-python",
   "name": "python",
   "nbconvert_exporter": "python",
   "pygments_lexer": "ipython3",
   "version": "3.12.4"
  }
 },
 "nbformat": 4,
 "nbformat_minor": 5
}
